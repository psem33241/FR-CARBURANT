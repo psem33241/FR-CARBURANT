{
 "cells": [
  {
   "cell_type": "markdown",
   "metadata": {},
   "source": [
    "Étape 1 : Lire le Fichier CSV avec Pandas\n",
    "\n",
    "Importez les bibliothèques nécessaires :"
   ]
  },
  {
   "cell_type": "code",
   "execution_count": 44,
   "metadata": {},
   "outputs": [],
   "source": [
    "import pandas as pd\n",
    "from sqlalchemy import create_engine"
   ]
  },
  {
   "cell_type": "markdown",
   "metadata": {},
   "source": [
    "Lecture du fichier CSV avec Pandas :"
   ]
  },
  {
   "cell_type": "code",
   "execution_count": 45,
   "metadata": {},
   "outputs": [],
   "source": [
    "# chemin vers le fichier CSV\n",
    "file_path = '/Users/psem/Desktop/projet_prix_carburants_france/2 - extraction manuelle CSV/prix-des-carburants-en-france-flux-instantane-v2-sorted.csv'\n",
    "\n",
    "# Lecture du fichier CSV en DataFrame Pandas\n",
    "df = pd.read_csv(file_path, sep = \";\")\n",
    "#df = pd.read_csv('prix-des-carburants-en-france-flux-instantane-v2-sorted.csv')"
   ]
  },
  {
   "cell_type": "markdown",
   "metadata": {},
   "source": [
    "Étape 2 : Importer les Données dans MySQL\n",
    "\n",
    "Créez une connexion à votre base de données MySQL"
   ]
  },
  {
   "cell_type": "code",
   "execution_count": 46,
   "metadata": {},
   "outputs": [],
   "source": [
    "# Spécifiez les détails de connexion à MySQL\n",
    "username = 'root'\n",
    "password = '14061971'\n",
    "hostname = 'localhost'  # ou l'adresse de votre serveur MySQL\n",
    "database = 'projet_carburants_france'\n",
    "\n",
    "# Créer une connexion à la base de données MySQL\n",
    "engine = create_engine(f'mysql+pymysql://{username}:{password}@{hostname}/{database}')"
   ]
  },
  {
   "cell_type": "markdown",
   "metadata": {},
   "source": [
    "Importez les données dans MySQL"
   ]
  },
  {
   "cell_type": "code",
   "execution_count": 47,
   "metadata": {},
   "outputs": [
    {
     "name": "stdout",
     "output_type": "stream",
     "text": [
      "Les données ont été importées avec succès dans MySQL\n"
     ]
    }
   ],
   "source": [
    "# Importer les données dans une table MySQL\n",
    "\n",
    "table_name = 'stations_service'  # Spécifiez le nom de la table\n",
    "df.to_sql(table_name, con=engine, if_exists='replace', index=False)\n",
    "\n",
    "# Confirmer l'importation\n",
    "\n",
    "print(\"Les données ont été importées avec succès dans MySQL\")"
   ]
  },
  {
   "cell_type": "code",
   "execution_count": 48,
   "metadata": {},
   "outputs": [
    {
     "data": {
      "text/html": [
       "<div>\n",
       "<style scoped>\n",
       "    .dataframe tbody tr th:only-of-type {\n",
       "        vertical-align: middle;\n",
       "    }\n",
       "\n",
       "    .dataframe tbody tr th {\n",
       "        vertical-align: top;\n",
       "    }\n",
       "\n",
       "    .dataframe thead th {\n",
       "        text-align: right;\n",
       "    }\n",
       "</style>\n",
       "<table border=\"1\" class=\"dataframe\">\n",
       "  <thead>\n",
       "    <tr style=\"text-align: right;\">\n",
       "      <th></th>\n",
       "      <th>code_postal</th>\n",
       "      <th>adresse</th>\n",
       "      <th>ville</th>\n",
       "      <th>adresse_complete</th>\n",
       "      <th>latitude</th>\n",
       "      <th>longitude</th>\n",
       "      <th>prix_gazole_mis_a_jour_le</th>\n",
       "      <th>prix_gazole</th>\n",
       "      <th>prix_SP95_mis_a_jour_le</th>\n",
       "      <th>prix_SP95</th>\n",
       "      <th>...</th>\n",
       "      <th>carburants_disponibles</th>\n",
       "      <th>carburants_indisponibles</th>\n",
       "      <th>carburants_en_rupture_temporaire</th>\n",
       "      <th>carburants_en_rupture_definitive</th>\n",
       "      <th>automate_24_24</th>\n",
       "      <th>services_proposes</th>\n",
       "      <th>departement</th>\n",
       "      <th>code_departement</th>\n",
       "      <th>region</th>\n",
       "      <th>horaires_detailles</th>\n",
       "    </tr>\n",
       "  </thead>\n",
       "  <tbody>\n",
       "    <tr>\n",
       "      <th>2856</th>\n",
       "      <td>83150</td>\n",
       "      <td>Capitainerie Du Port</td>\n",
       "      <td>NaN</td>\n",
       "      <td>Capitainerie Du Port, , 83150, France</td>\n",
       "      <td>43.134082</td>\n",
       "      <td>5.757068</td>\n",
       "      <td>2024-11-23 à 01:10:00+01:00</td>\n",
       "      <td>1.970</td>\n",
       "      <td>2024-11-01 à 01:01:00+01:00</td>\n",
       "      <td>2.11</td>\n",
       "      <td>...</td>\n",
       "      <td>Gazole,SP95</td>\n",
       "      <td>E85,GPLc,E10,SP98</td>\n",
       "      <td>NaN</td>\n",
       "      <td>E85;GPLc;E10;SP98</td>\n",
       "      <td>Oui</td>\n",
       "      <td>Automate CB 24/24</td>\n",
       "      <td>NaN</td>\n",
       "      <td>NaN</td>\n",
       "      <td>NaN</td>\n",
       "      <td>Automate-24-24, Lundi01.00-01.00, Mardi01.00-0...</td>\n",
       "    </tr>\n",
       "    <tr>\n",
       "      <th>6882</th>\n",
       "      <td>56700</td>\n",
       "      <td>Kernous</td>\n",
       "      <td>NaN</td>\n",
       "      <td>Kernous, , 56700, France</td>\n",
       "      <td>47.765000</td>\n",
       "      <td>-3.302000</td>\n",
       "      <td>2024-11-30 à 12:07:29+01:00</td>\n",
       "      <td>1.740</td>\n",
       "      <td>NaN</td>\n",
       "      <td>NaN</td>\n",
       "      <td>...</td>\n",
       "      <td>Gazole,E10,SP98</td>\n",
       "      <td>SP95,E85,GPLc</td>\n",
       "      <td>E85</td>\n",
       "      <td>NaN</td>\n",
       "      <td>Non</td>\n",
       "      <td>Boutique alimentaire,Boutique non alimentaire,...</td>\n",
       "      <td>NaN</td>\n",
       "      <td>NaN</td>\n",
       "      <td>NaN</td>\n",
       "      <td>NaN</td>\n",
       "    </tr>\n",
       "    <tr>\n",
       "      <th>7533</th>\n",
       "      <td>57350</td>\n",
       "      <td>3, Rue Nationale</td>\n",
       "      <td>NaN</td>\n",
       "      <td>3, Rue Nationale, , 57350, France</td>\n",
       "      <td>49.205000</td>\n",
       "      <td>6.956000</td>\n",
       "      <td>2024-11-25 à 14:22:51+01:00</td>\n",
       "      <td>1.659</td>\n",
       "      <td>NaN</td>\n",
       "      <td>NaN</td>\n",
       "      <td>...</td>\n",
       "      <td>Gazole,E10,SP98</td>\n",
       "      <td>SP95,E85,GPLc</td>\n",
       "      <td>NaN</td>\n",
       "      <td>SP95;E85;GPLc</td>\n",
       "      <td>Non</td>\n",
       "      <td>DAB (Distributeur automatique de billets)</td>\n",
       "      <td>NaN</td>\n",
       "      <td>NaN</td>\n",
       "      <td>NaN</td>\n",
       "      <td>NaN</td>\n",
       "    </tr>\n",
       "    <tr>\n",
       "      <th>8526</th>\n",
       "      <td>83380</td>\n",
       "      <td>San Peire</td>\n",
       "      <td>NaN</td>\n",
       "      <td>San Peire, , 83380, France</td>\n",
       "      <td>43.340774</td>\n",
       "      <td>6.692525</td>\n",
       "      <td>2024-12-01 à 01:01:00+01:00</td>\n",
       "      <td>1.619</td>\n",
       "      <td>NaN</td>\n",
       "      <td>NaN</td>\n",
       "      <td>...</td>\n",
       "      <td>Gazole,E10,SP98</td>\n",
       "      <td>SP95,E85,GPLc</td>\n",
       "      <td>NaN</td>\n",
       "      <td>SP95;E85;GPLc</td>\n",
       "      <td>Non</td>\n",
       "      <td>Boutique alimentaire,Boutique non alimentaire,...</td>\n",
       "      <td>NaN</td>\n",
       "      <td>NaN</td>\n",
       "      <td>NaN</td>\n",
       "      <td>NaN</td>\n",
       "    </tr>\n",
       "  </tbody>\n",
       "</table>\n",
       "<p>4 rows × 28 columns</p>\n",
       "</div>"
      ],
      "text/plain": [
       "      code_postal               adresse ville  \\\n",
       "2856        83150  Capitainerie Du Port   NaN   \n",
       "6882        56700               Kernous   NaN   \n",
       "7533        57350      3, Rue Nationale   NaN   \n",
       "8526        83380             San Peire   NaN   \n",
       "\n",
       "                           adresse_complete   latitude  longitude  \\\n",
       "2856  Capitainerie Du Port, , 83150, France  43.134082   5.757068   \n",
       "6882               Kernous, , 56700, France  47.765000  -3.302000   \n",
       "7533      3, Rue Nationale, , 57350, France  49.205000   6.956000   \n",
       "8526             San Peire, , 83380, France  43.340774   6.692525   \n",
       "\n",
       "        prix_gazole_mis_a_jour_le  prix_gazole      prix_SP95_mis_a_jour_le  \\\n",
       "2856  2024-11-23 à 01:10:00+01:00        1.970  2024-11-01 à 01:01:00+01:00   \n",
       "6882  2024-11-30 à 12:07:29+01:00        1.740                          NaN   \n",
       "7533  2024-11-25 à 14:22:51+01:00        1.659                          NaN   \n",
       "8526  2024-12-01 à 01:01:00+01:00        1.619                          NaN   \n",
       "\n",
       "      prix_SP95  ... carburants_disponibles  carburants_indisponibles  \\\n",
       "2856       2.11  ...            Gazole,SP95         E85,GPLc,E10,SP98   \n",
       "6882        NaN  ...        Gazole,E10,SP98             SP95,E85,GPLc   \n",
       "7533        NaN  ...        Gazole,E10,SP98             SP95,E85,GPLc   \n",
       "8526        NaN  ...        Gazole,E10,SP98             SP95,E85,GPLc   \n",
       "\n",
       "     carburants_en_rupture_temporaire  carburants_en_rupture_definitive  \\\n",
       "2856                              NaN                 E85;GPLc;E10;SP98   \n",
       "6882                              E85                               NaN   \n",
       "7533                              NaN                     SP95;E85;GPLc   \n",
       "8526                              NaN                     SP95;E85;GPLc   \n",
       "\n",
       "     automate_24_24                                  services_proposes  \\\n",
       "2856            Oui                                  Automate CB 24/24   \n",
       "6882            Non  Boutique alimentaire,Boutique non alimentaire,...   \n",
       "7533            Non          DAB (Distributeur automatique de billets)   \n",
       "8526            Non  Boutique alimentaire,Boutique non alimentaire,...   \n",
       "\n",
       "     departement  code_departement region  \\\n",
       "2856         NaN               NaN    NaN   \n",
       "6882         NaN               NaN    NaN   \n",
       "7533         NaN               NaN    NaN   \n",
       "8526         NaN               NaN    NaN   \n",
       "\n",
       "                                     horaires_detailles  \n",
       "2856  Automate-24-24, Lundi01.00-01.00, Mardi01.00-0...  \n",
       "6882                                                NaN  \n",
       "7533                                                NaN  \n",
       "8526                                                NaN  \n",
       "\n",
       "[4 rows x 28 columns]"
      ]
     },
     "execution_count": 48,
     "metadata": {},
     "output_type": "execute_result"
    }
   ],
   "source": [
    "import numpy as np\n",
    "#df[df['code_departement'] == np.nan]\n",
    "df[df['code_departement'].isna()]"
   ]
  },
  {
   "cell_type": "code",
   "execution_count": null,
   "metadata": {},
   "outputs": [],
   "source": [
    "index = 2856\n",
    "ville = 'Palavas-les-Flots'\n",
    "departement = 'Hérault'\n",
    "code_departement = '56'\n",
    "region = 'Occitanie'\n",
    "\n",
    "\n",
    "df.loc[index, 'ville'] = ville\n",
    "df.loc[index, 'departement'] = departement\n",
    "df.loc[index, 'code_departement'] = code_departement\n",
    "df.loc[index, 'region'] = region"
   ]
  },
  {
   "cell_type": "code",
   "execution_count": null,
   "metadata": {},
   "outputs": [],
   "source": [
    "index = 6882\n",
    "ville = 'Kervignac'\n",
    "departement = 'Morbihan'\n",
    "code_departement = '56'\n",
    "region = 'Bretagne'\n",
    "\n",
    "\n",
    "df.loc[index, 'ville'] = ville\n",
    "df.loc[index, 'departement'] = departement\n",
    "df.loc[index, 'code_departement'] = code_departement\n",
    "df.loc[index, 'region'] = region"
   ]
  },
  {
   "cell_type": "code",
   "execution_count": null,
   "metadata": {},
   "outputs": [],
   "source": [
    "index = 7533\n",
    "ville = 'Stiring-Wendel'\n",
    "departement = 'Moselle'\n",
    "code_departement = '57'\n",
    "region = 'Grand Est'\n",
    "\n",
    "\n",
    "df.loc[index, 'ville'] = ville\n",
    "df.loc[index, 'departement'] = departement\n",
    "df.loc[index, 'code_departement'] = code_departement\n",
    "df.loc[index, 'region'] = region"
   ]
  },
  {
   "cell_type": "code",
   "execution_count": 42,
   "metadata": {},
   "outputs": [],
   "source": [
    "index = 8526\n",
    "ville = 'Roquebrune-sur-Argens'\n",
    "departement = 'Var'\n",
    "code_departement = '83'\n",
    "region = 'Provences-Alpes-Cote d\\'Azur'\n",
    "\n",
    "\n",
    "df.loc[index, 'ville'] = ville\n",
    "df.loc[index, 'departement'] = departement\n",
    "df.loc[index, 'code_departement'] = code_departement\n",
    "df.loc[index, 'region'] = region"
   ]
  },
  {
   "cell_type": "code",
   "execution_count": null,
   "metadata": {},
   "outputs": [],
   "source": []
  }
 ],
 "metadata": {
  "kernelspec": {
   "display_name": "Python 3",
   "language": "python",
   "name": "python3"
  },
  "language_info": {
   "codemirror_mode": {
    "name": "ipython",
    "version": 3
   },
   "file_extension": ".py",
   "mimetype": "text/x-python",
   "name": "python",
   "nbconvert_exporter": "python",
   "pygments_lexer": "ipython3",
   "version": "3.12.4"
  }
 },
 "nbformat": 4,
 "nbformat_minor": 2
}
